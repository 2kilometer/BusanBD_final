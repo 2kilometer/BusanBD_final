{
 "cells": [
  {
   "cell_type": "code",
   "execution_count": 2,
   "id": "e2d50743-19ff-4eb9-beac-977b2df54932",
   "metadata": {},
   "outputs": [
    {
     "name": "stdout",
     "output_type": "stream",
     "text": [
      "Requirement already satisfied: psutil in c:\\users\\user\\anaconda3\\envs\\spark_env2\\lib\\site-packages (5.9.6)\n"
     ]
    }
   ],
   "source": [
    "from pyspark import SparkContext\n",
    "from pyspark.sql import SparkSession, Row\n",
    "from pyspark.sql.types import ArrayType, StringType, StructType, StructField\n",
    "from pyspark.ml.fpm import FPGrowth # ml기반 fpgrowth는 fit으로 학습\n",
    "import pyspark.sql.functions as F\n",
    "import pandas as pd\n",
    "!pip install psutil\n",
    "import psutil"
   ]
  },
  {
   "cell_type": "code",
   "execution_count": 3,
   "id": "53516ba8-3ba1-4e90-978e-8e909caaf356",
   "metadata": {},
   "outputs": [],
   "source": [
    "# SparkSession 초기화\n",
    "spark = SparkSession.builder \\\n",
    "    .appName(\"nutr_fpgrowth\") \\\n",
    "    .getOrCreate()"
   ]
  },
  {
   "cell_type": "markdown",
   "id": "1f350733-846c-4d3a-be0c-4c3a308d58c0",
   "metadata": {},
   "source": [
    "# 0. 데이터 불러오고 확인하기"
   ]
  },
  {
   "cell_type": "code",
   "execution_count": 4,
   "id": "7d4a21ba-a30d-484b-acb0-0ff986f95f24",
   "metadata": {},
   "outputs": [
    {
     "name": "stderr",
     "output_type": "stream",
     "text": [
      "C:\\Users\\USER\\anaconda3\\envs\\spark_env2\\lib\\site-packages\\pyspark\\sql\\pandas\\conversion.py:479: FutureWarning: is_datetime64tz_dtype is deprecated and will be removed in a future version. Check `isinstance(dtype, pd.DatetimeTZDtype)` instead.\n",
      "  if should_localize and is_datetime64tz_dtype(s.dtype) and s.dt.tz is not None:\n"
     ]
    }
   ],
   "source": [
    "pandas_df = pd.read_csv(\"./data/survey_total.csv\")\n",
    "pandas_df[\"섭취품목\"] = pd.DataFrame(pandas_df[\"섭취품목\"].apply(lambda x : eval(x)))\n",
    "df = spark.createDataFrame(pandas_df)"
   ]
  },
  {
   "cell_type": "code",
   "execution_count": 5,
   "id": "aaae5485-7649-4ccb-b1a4-600a0296e8b4",
   "metadata": {},
   "outputs": [
    {
     "name": "stdout",
     "output_type": "stream",
     "text": [
      "전체 데이터 행의 개수 : 9560\n",
      "root\n",
      " |-- 성별: string (nullable = true)\n",
      " |-- 연령대: string (nullable = true)\n",
      " |-- 섭취품목: array (nullable = true)\n",
      " |    |-- element: string (containsNull = true)\n",
      " |-- 비타민 및 무기질: long (nullable = true)\n",
      " |-- 식이섬유: long (nullable = true)\n",
      " |-- 아미노산 및 단백질: long (nullable = true)\n",
      " |-- 지방산: long (nullable = true)\n",
      " |-- 엽록소: long (nullable = true)\n",
      " |-- 인삼류: long (nullable = true)\n",
      " |-- 페놀류: long (nullable = true)\n",
      " |-- 당 및 탄수화물: long (nullable = true)\n",
      " |-- 발효미생물류: long (nullable = true)\n",
      " |-- 신규기능성식품: long (nullable = true)\n",
      "\n",
      "+----+------+--------------------------------+----------------+--------+------------------+------+------+------+------+--------------+------------+--------------+\n",
      "|성별|연령대|                        섭취품목|비타민 및 무기질|식이섬유|아미노산 및 단백질|지방산|엽록소|인삼류|페놀류|당 및 탄수화물|발효미생물류|신규기능성식품|\n",
      "+----+------+--------------------------------+----------------+--------+------------------+------+------+------+------+--------------+------------+--------------+\n",
      "|여자| 50~59|[비타민 및 무기질, 발효미생물...|               1|       0|                 0|     0|     0|     0|     0|             0|           1|             1|\n",
      "|여자| 60~69|      [비타민 및 무기질, 지방산]|               1|       0|                 0|     1|     0|     0|     0|             0|           0|             0|\n",
      "|여자| 30~39|  [비타민 및 무기질, 인삼류, ...|               1|       0|                 0|     0|     0|     1|     0|             0|           0|             1|\n",
      "|여자| 50~59|              [비타민 및 무기질]|               1|       0|                 0|     0|     0|     0|     0|             0|           0|             0|\n",
      "|여자| 50~59|    [비타민 및 무기질, 식이섬유]|               1|       1|                 0|     0|     0|     0|     0|             0|           0|             0|\n",
      "+----+------+--------------------------------+----------------+--------+------------------+------+------+------+------+--------------+------------+--------------+\n",
      "only showing top 5 rows\n",
      "\n"
     ]
    }
   ],
   "source": [
    "print(f\"전체 데이터 행의 개수 : {df.count()}\")\n",
    "df.printSchema()\n",
    "df.show(5)"
   ]
  },
  {
   "cell_type": "code",
   "execution_count": 6,
   "id": "c129d95c-fbc8-4c26-9732-a745db80c41c",
   "metadata": {
    "scrolled": true
   },
   "outputs": [
    {
     "name": "stdout",
     "output_type": "stream",
     "text": [
      "+------+\n",
      "|연령대|\n",
      "+------+\n",
      "| 90~99|\n",
      "| 80~89|\n",
      "| 70~79|\n",
      "| 60~69|\n",
      "| 50~59|\n",
      "| 40~49|\n",
      "| 30~39|\n",
      "| 20~29|\n",
      "| 10~19|\n",
      "|   0~9|\n",
      "+------+\n",
      "\n"
     ]
    },
    {
     "data": {
      "text/plain": [
       "10"
      ]
     },
     "execution_count": 6,
     "metadata": {},
     "output_type": "execute_result"
    }
   ],
   "source": [
    "df.select(\"연령대\").distinct().orderBy(F.desc(\"연령대\")).show()\n",
    "df.select(\"연령대\").distinct().orderBy(F.desc(\"연령대\")).count()"
   ]
  },
  {
   "cell_type": "markdown",
   "id": "f96784a8-1793-4eed-8bf1-809faa20c1dd",
   "metadata": {},
   "source": [
    "# 1. FP-Growth 모델링\n",
    "- 성별 및 연령대별 섭취품목을 fp-growth로 학습시키기\n",
    "- 총 20개의 모델이 나와야하고 딕셔너리에 저장\n",
    "- Spark를 사용한 모델링의 핵심은 RDD에 있습니다! 중요★★★\n",
    "- 분산처리 개념에 대해서는 꼭 이해하시고 가셔야 해요"
   ]
  },
  {
   "cell_type": "code",
   "execution_count": 7,
   "id": "ee916b80-0bd8-4e29-9629-476db013f750",
   "metadata": {},
   "outputs": [
    {
     "name": "stdout",
     "output_type": "stream",
     "text": [
      "started at : 2023-11-02 13:01:16.462381\n",
      "ended at : 2023-11-02 13:03:51.537942\n",
      "total : 0:02:35.075561\n"
     ]
    }
   ],
   "source": [
    "from datetime import datetime\n",
    "\n",
    "start_time = datetime.now()\n",
    "print(f\"started at : {start_time}\")\n",
    "\n",
    "models = {}  # 각 성별 및 연령대별 모델 저장을 위한 dict\n",
    "\n",
    "genders = df.select(\"성별\").distinct().rdd.flatMap(lambda x: x).collect()\n",
    "age_groups = df.select(\"연령대\").distinct().rdd.flatMap(lambda x: x).collect()\n",
    "# df.select(\"컬럼명\") 선택 -> discinct() 중복값 제거\n",
    "# rdd : 분산환경에서 데이터 병렬처리 지원\n",
    "# flatMap(lambda x: x) : rdd 평평하게 만들기\n",
    "# collect() : rdd내의 모든 요소 로컬로 수집\n",
    "\n",
    "# 모든 성별 및 연령대 조합에 대해 subset 데이터프레임 생성\n",
    "for gender in genders:\n",
    "    for age_group in age_groups:\n",
    "        subset = df.filter((df[\"성별\"] == gender) & (df[\"연령대\"] == age_group))\n",
    "        # 모델 생성 및 학습\n",
    "        # - itemsCol : 학습시킬 데이터 열\n",
    "        # - minSupport : 최소 지지도 / minConfidence : 최소 신뢰도\n",
    "        fp_growth = FPGrowth(itemsCol=\"섭취품목\", minSupport=0.001, minConfidence=0.001)\n",
    "        model = fp_growth.fit(subset)\n",
    "        # 학습된 모델을 딕셔너리에 저장\n",
    "        # - key : 성별-연령대 조합\n",
    "        # - value : fp-growth 모델\n",
    "        models[(gender, age_group)] = model\n",
    "\n",
    "end_time = datetime.now()\n",
    "print(f\"ended at : {end_time}\")\n",
    "print(f\"total : {end_time - start_time}\")"
   ]
  },
  {
   "cell_type": "markdown",
   "id": "cf18d7ab-f590-4cbf-886f-979e8263616a",
   "metadata": {},
   "source": [
    "### 모델 저장하기\n",
    "- 딕셔너리의 각 모델을 별도의 파일로 저장하고 파일 경로를 딕셔너리의 값으로 업데이트\n",
    "- 단일 파일로 저장했을 때 보다 관리는 어렵지만, 모델끼리 독립적이고 최적화 시 업데이트가 유연함. 단일보다 모델 크기도 작음"
   ]
  },
  {
   "cell_type": "code",
   "execution_count": 8,
   "id": "5b5081a8-badc-48f3-a051-ff197f32f667",
   "metadata": {},
   "outputs": [],
   "source": [
    "def save_models(models):\n",
    "    for (gender, age_group), model in models.items():\n",
    "        path = f\"./models/{gender}_{age_group}.model\"\n",
    "        model.write().overwrite().save(path)\n",
    "        \n",
    "save_models(models)"
   ]
  },
  {
   "cell_type": "markdown",
   "id": "88a158a8-7118-44c3-804b-443a8c2e5577",
   "metadata": {},
   "source": [
    "[Error] \n",
    "Py4JJavaError: An error occurred while calling o1334.save 트러블 슈팅\n",
    ": ExitCodeException exitCode=-1073741515:   \n",
    "- Hadoop 라이브러리와 관련 된 에러임. Hadoop 라이브러리 또는 연관 native 라이브러리 로드에 문제\n",
    "- Window 환경에서 PySpark를 사용할 때 발생하는 문제랍니다\n",
    "- Hdoop 바이너리 다운로드와 환경설정을 마쳤으니 권한문제라 생각\n",
    "  1. 관리자 권한으로 cmd 실행 후 mkdir C:\\tmp\\hive (있으면 생략 가능)\n",
    "  2. C:\\hadoop\\bin\\winutils.exe chmod -R 777 C:\\tmp\\hive 명령어 실행\n",
    "  3. 만약 MSVCR100.dll이 없어 코드 실행을 진행할 수 없다는 오류가 떴으면\n",
    "  4. 파일 구글링 후 다운 받는다음 C:\\Windows\\System32에 넣기! 재부팅 하시면 모델이 저장됩니다\n",
    "  -  참고 링크 : https://blog.naver.com/PostView.naver?blogId=jxbjultd&logNo=222838269355&parentCategoryNo=&categoryNo=6&viewDate=&isShowPopularPosts=true&from=search."
   ]
  },
  {
   "cell_type": "code",
   "execution_count": 9,
   "id": "3cd67e61-d655-4b7e-bc09-01951da45a29",
   "metadata": {},
   "outputs": [],
   "source": [
    "# def load_models(keys):\n",
    "#     loaded_models = {}\n",
    "#     for key in keys:\n",
    "#         gender, age_group = key\n",
    "#         path = f\"/path/to/save/{gender}_{age_group}.model\"\n",
    "#         loaded_model = FPGrowthModel.load(path)\n",
    "#         loaded_models[key] = loaded_model\n",
    "#     return loaded_models\n",
    "\n",
    "# # 성별 및 연령대별 모델 키 목록 (예시)\n",
    "# model_keys = [('male', '20s'), ('male', '30s')]\n",
    "\n",
    "# # 모델 로드\n",
    "# models = load_models(model_keys)"
   ]
  },
  {
   "cell_type": "code",
   "execution_count": 10,
   "id": "4ef28726-86d3-4158-afda-5b57f6b95f49",
   "metadata": {},
   "outputs": [],
   "source": [
    "# from pyspark.ml.fpm import FPGrowthModel\n",
    "\n",
    "# # 딕셔너리를 pickle로부터 불러오기\n",
    "# with open(\"models_dict.pkl\", \"rb\") as f:\n",
    "#     models_dict = pickle.load(f)\n",
    "\n",
    "# # 모델 경로를 사용하여 각 모델 객체를 불러오기\n",
    "# for (gender, age_group), model_path in models_dict.items():\n",
    "#     models_dict[(gender, age_group)] = FPGrowthModel.load(model_path)"
   ]
  },
  {
   "cell_type": "code",
   "execution_count": 11,
   "id": "cf64be8a-40af-4b75-8b94-1bb0024a4576",
   "metadata": {},
   "outputs": [
    {
     "data": {
      "text/plain": [
       "{('여자',\n",
       "  '50~59'): FPGrowthModel: uid=FPGrowth_f3547ab28077, numTrainingRecords=1390,\n",
       " ('여자',\n",
       "  '20~29'): FPGrowthModel: uid=FPGrowth_426ccf448888, numTrainingRecords=425,\n",
       " ('여자',\n",
       "  '60~69'): FPGrowthModel: uid=FPGrowth_53b73fbe626f, numTrainingRecords=1035,\n",
       " ('여자',\n",
       "  '30~39'): FPGrowthModel: uid=FPGrowth_61fc07f6accf, numTrainingRecords=697,\n",
       " ('여자',\n",
       "  '40~49'): FPGrowthModel: uid=FPGrowth_f450774b4edf, numTrainingRecords=974,\n",
       " ('여자',\n",
       "  '70~79'): FPGrowthModel: uid=FPGrowth_648c16438455, numTrainingRecords=265,\n",
       " ('여자',\n",
       "  '80~89'): FPGrowthModel: uid=FPGrowth_86418aa2e258, numTrainingRecords=11,\n",
       " ('여자',\n",
       "  '0~9'): FPGrowthModel: uid=FPGrowth_f6400f178944, numTrainingRecords=111,\n",
       " ('여자',\n",
       "  '90~99'): FPGrowthModel: uid=FPGrowth_57d5cb4c996c, numTrainingRecords=0,\n",
       " ('여자',\n",
       "  '10~19'): FPGrowthModel: uid=FPGrowth_3ff5de92a87b, numTrainingRecords=302,\n",
       " ('남자',\n",
       "  '50~59'): FPGrowthModel: uid=FPGrowth_d88d6c395ccd, numTrainingRecords=1067,\n",
       " ('남자',\n",
       "  '20~29'): FPGrowthModel: uid=FPGrowth_02833a3262ce, numTrainingRecords=321,\n",
       " ('남자',\n",
       "  '60~69'): FPGrowthModel: uid=FPGrowth_27acc845c350, numTrainingRecords=997,\n",
       " ('남자',\n",
       "  '30~39'): FPGrowthModel: uid=FPGrowth_4694673275be, numTrainingRecords=502,\n",
       " ('남자',\n",
       "  '40~49'): FPGrowthModel: uid=FPGrowth_07970b8a799b, numTrainingRecords=776,\n",
       " ('남자',\n",
       "  '70~79'): FPGrowthModel: uid=FPGrowth_7cab4def659e, numTrainingRecords=258,\n",
       " ('남자',\n",
       "  '80~89'): FPGrowthModel: uid=FPGrowth_187a17ae17e4, numTrainingRecords=13,\n",
       " ('남자',\n",
       "  '0~9'): FPGrowthModel: uid=FPGrowth_00202f896566, numTrainingRecords=98,\n",
       " ('남자',\n",
       "  '90~99'): FPGrowthModel: uid=FPGrowth_2cd95c6e4c53, numTrainingRecords=1,\n",
       " ('남자',\n",
       "  '10~19'): FPGrowthModel: uid=FPGrowth_ce443e9d6ba0, numTrainingRecords=317}"
      ]
     },
     "execution_count": 11,
     "metadata": {},
     "output_type": "execute_result"
    }
   ],
   "source": [
    "models"
   ]
  },
  {
   "cell_type": "code",
   "execution_count": 12,
   "id": "142244d3-8641-4e7f-9f14-b3ee4b17c94f",
   "metadata": {},
   "outputs": [
    {
     "name": "stdout",
     "output_type": "stream",
     "text": [
      "9560\n"
     ]
    }
   ],
   "source": [
    "records_values = [int(str(model).split(\"numTrainingRecords=\")[-1].split(\",\")[0]) for model in models.values()]\n",
    "\n",
    "# 총 합계 계산\n",
    "total_records = sum(records_values)\n",
    "print(total_records)"
   ]
  },
  {
   "cell_type": "markdown",
   "id": "bdfecf33-1948-47fd-8629-34def927aaa4",
   "metadata": {},
   "source": [
    "### => 아래는 모델링 함수"
   ]
  },
  {
   "cell_type": "code",
   "execution_count": 13,
   "id": "b678efec-33dd-41c5-928c-e9851790922d",
   "metadata": {},
   "outputs": [],
   "source": [
    "# def train_models(df, item_col, gender_col, age_group_col):\n",
    "#     models = {}  # 각 성별 및 연령대별 모델 저장을 위한 dict\n",
    "\n",
    "#     genders = df.select(gender_col).distinct().rdd.flatMap(lambda x: x).collect()\n",
    "#     age_groups = df.select(age_group_col).distinct().rdd.flatMap(lambda x: x).collect()\n",
    "\n",
    "#     for gender in genders:\n",
    "#         for age_group in age_groups:\n",
    "#             subset = df.filter((df[gender_col] == gender) & (df[age_group_col] == age_group))\n",
    "            \n",
    "#             fp_growth = FPGrowth(itemsCol=item_col, minSupport=0.01, minConfidence=0.01)\n",
    "#             model = fp_growth.fit(subset)\n",
    "            \n",
    "#             models[(gender, age_group)] = model\n",
    "    \n",
    "#     return models\n",
    "\n",
    "# # 함수 사용 예\n",
    "# trained_models = train_models(df, \"섭취품목\", \"성별\", \"연령대\")"
   ]
  },
  {
   "cell_type": "markdown",
   "id": "a5f92e6a-7a8a-4840-85f0-9cd14aebd3f2",
   "metadata": {},
   "source": [
    "# 2. 모델링 결과 분석"
   ]
  },
  {
   "cell_type": "code",
   "execution_count": 14,
   "id": "108b0756-838b-4881-9dd3-2270193cc6e9",
   "metadata": {},
   "outputs": [
    {
     "name": "stdout",
     "output_type": "stream",
     "text": [
      "성별: 여자, 연령대: 50~59\n",
      "+-------------------------------+----------+------------------+------------------+--------------------+\n",
      "|                     antecedent|consequent|        confidence|              lift|             support|\n",
      "+-------------------------------+----------+------------------+------------------+--------------------+\n",
      "| [당 및 탄수화물, 지방산, 발...|  [엽록소]|               0.4|11.120000000000001|0.001438848920863...|\n",
      "|[아미노산 및 단백질, 인삼류,...|  [엽록소]|               0.4|11.120000000000001|0.001438848920863...|\n",
      "|[아미노산 및 단백질, 인삼류,...|  [엽록소]|0.3333333333333333| 9.266666666666666|0.001438848920863...|\n",
      "+-------------------------------+----------+------------------+------------------+--------------------+\n",
      "only showing top 3 rows\n",
      "\n",
      "성별: 여자, 연령대: 20~29\n",
      "+--------------------------------+----------+------------------+------------------+--------------------+\n",
      "|                      antecedent|consequent|        confidence|              lift|             support|\n",
      "+--------------------------------+----------+------------------+------------------+--------------------+\n",
      "|  [식이섬유, 아미노산 및 단백질]|  [엽록소]|0.3333333333333333| 47.22222222222222|0.002352941176470588|\n",
      "|[아미노산 및 단백질, 신규기능...|  [페놀류]|               0.5|35.416666666666664|0.002352941176470588|\n",
      "|[아미노산 및 단백질, 신규기능...|  [페놀류]|               0.5|35.416666666666664|0.004705882352941176|\n",
      "+--------------------------------+----------+------------------+------------------+--------------------+\n",
      "only showing top 3 rows\n",
      "\n",
      "성별: 여자, 연령대: 60~69\n",
      "+---------------------------------+----------+------------------+------------------+--------------------+\n",
      "|                       antecedent|consequent|        confidence|              lift|             support|\n",
      "+---------------------------------+----------+------------------+------------------+--------------------+\n",
      "|[신규기능성식품, 발효미생물류,...|[식이섬유]|               0.4|14.785714285714286|0.001932367149758454|\n",
      "|[신규기능성식품, 발효미생물류,...|[식이섬유]|0.3333333333333333| 12.32142857142857|0.001932367149758454|\n",
      "| [신규기능성식품, 인삼류, 지방...|[식이섬유]|0.3333333333333333| 12.32142857142857|0.001932367149758454|\n",
      "+---------------------------------+----------+------------------+------------------+--------------------+\n",
      "only showing top 3 rows\n",
      "\n",
      "성별: 여자, 연령대: 30~39\n",
      "+-------------------------------+----------+----------+------------------+--------------------+\n",
      "|                     antecedent|consequent|confidence|              lift|             support|\n",
      "+-------------------------------+----------+----------+------------------+--------------------+\n",
      "|[페놀류, 아미노산 및 단백질,...|  [엽록소]|       1.0|58.083333333333336|0.001434720229555...|\n",
      "|   [페놀류, 아미노산 및 단백질]|  [엽록소]|       0.5|29.041666666666668|0.001434720229555...|\n",
      "|   [엽록소, 아미노산 및 단백질]|  [페놀류]|       0.5| 23.23333333333333|0.001434720229555...|\n",
      "+-------------------------------+----------+----------+------------------+--------------------+\n",
      "only showing top 3 rows\n",
      "\n",
      "성별: 여자, 연령대: 40~49\n",
      "+-------------------------------+----------+----------+-----------------+--------------------+\n",
      "|                     antecedent|consequent|confidence|             lift|             support|\n",
      "+-------------------------------+----------+----------+-----------------+--------------------+\n",
      "|     [페놀류, 식이섬유, 지방산]|  [엽록소]|       1.0|42.34782608695652|0.001026694045174538|\n",
      "|[페놀류, 아미노산 및 단백질,...|  [엽록소]|       1.0|42.34782608695652|0.001026694045174538|\n",
      "|[페놀류, 아미노산 및 단백질,...|  [엽록소]|       1.0|42.34782608695652|0.001026694045174538|\n",
      "+-------------------------------+----------+----------+-----------------+--------------------+\n",
      "only showing top 3 rows\n",
      "\n",
      "성별: 여자, 연령대: 70~79\n",
      "+--------------------------------+----------+----------+-----------------+--------------------+\n",
      "|                      antecedent|consequent|confidence|             lift|             support|\n",
      "+--------------------------------+----------+----------+-----------------+--------------------+\n",
      "|                [엽록소, 지방산]|  [페놀류]|       1.0|            66.25|0.003773584905660...|\n",
      "|[발효미생물류, 지방산, 인삼류...|[식이섬유]|       0.5|44.16666666666667|0.003773584905660...|\n",
      "|[당 및 탄수화물, 발효미생물류...|  [엽록소]|       0.5|           33.125|0.003773584905660...|\n",
      "+--------------------------------+----------+----------+-----------------+--------------------+\n",
      "only showing top 3 rows\n",
      "\n",
      "성별: 여자, 연령대: 80~89\n",
      "+--------------------------------+------------------+----------+------------------+-------------------+\n",
      "|                      antecedent|        consequent|confidence|              lift|            support|\n",
      "+--------------------------------+------------------+----------+------------------+-------------------+\n",
      "|[비타민 및 무기질, 발효미생물류]|  [당 및 탄수화물]|       0.5|              2.75|0.18181818181818182|\n",
      "|                [당 및 탄수화물]|[비타민 및 무기질]|       1.0|1.8333333333333335|0.18181818181818182|\n",
      "|  [당 및 탄수화물, 발효미생물류]|[비타민 및 무기질]|       1.0|1.8333333333333335|0.18181818181818182|\n",
      "+--------------------------------+------------------+----------+------------------+-------------------+\n",
      "only showing top 3 rows\n",
      "\n",
      "성별: 여자, 연령대: 0~9\n",
      "+----------------------------------+--------------------+------------------+-----------------+--------------------+\n",
      "|                        antecedent|          consequent|        confidence|             lift|             support|\n",
      "+----------------------------------+--------------------+------------------+-----------------+--------------------+\n",
      "|        [인삼류, 비타민 및 무기질]|    [신규기능성식품]|               0.5|           6.9375|0.009009009009009009|\n",
      "|[신규기능성식품, 비타민 및 무기질]|            [인삼류]|0.3333333333333333|4.111111111111111|0.009009009009009009|\n",
      "|  [비타민 및 무기질, 발효미생물류]|[아미노산 및 단백질]|           0.09375|        2.6015625| 0.02702702702702703|\n",
      "+----------------------------------+--------------------+------------------+-----------------+--------------------+\n",
      "only showing top 3 rows\n",
      "\n",
      "성별: 여자, 연령대: 90~99\n",
      "+----------+----------+----------+----+-------+\n",
      "|antecedent|consequent|confidence|lift|support|\n",
      "+----------+----------+----------+----+-------+\n",
      "+----------+----------+----------+----+-------+\n",
      "\n",
      "성별: 여자, 연령대: 10~19\n",
      "+----------------------------------+----------+------------------+------------------+--------------------+\n",
      "|                        antecedent|consequent|        confidence|              lift|             support|\n",
      "+----------------------------------+----------+------------------+------------------+--------------------+\n",
      "|  [지방산, 발효미생물류, 비타민...|[식이섬유]|0.3333333333333333| 20.13333333333333|0.003311258278145...|\n",
      "|[신규기능성식품, 비타민 및 무기질]|  [페놀류]|0.1111111111111111| 16.77777777777778|0.003311258278145...|\n",
      "|  [식이섬유, 발효미생물류, 비타...|  [지방산]|               1.0|15.894736842105262|0.003311258278145...|\n",
      "+----------------------------------+----------+------------------+------------------+--------------------+\n",
      "only showing top 3 rows\n",
      "\n",
      "성별: 남자, 연령대: 50~59\n",
      "+--------------------------------+----------+----------+------------------+--------------------+\n",
      "|                      antecedent|consequent|confidence|              lift|             support|\n",
      "+--------------------------------+----------+----------+------------------+--------------------+\n",
      "| [엽록소, 아미노산 및 단백질,...|[식이섬유]|       1.0|36.793103448275865|0.001874414245548...|\n",
      "| [엽록소, 아미노산 및 단백질,...|[식이섬유]|       1.0|36.793103448275865|0.001874414245548...|\n",
      "|[식이섬유, 아미노산 및 단백질...|  [엽록소]|       1.0|29.638888888888886|0.001874414245548...|\n",
      "+--------------------------------+----------+----------+------------------+--------------------+\n",
      "only showing top 3 rows\n",
      "\n",
      "성별: 남자, 연령대: 20~29\n",
      "+----------------------------+----------------+----------+-----------------+--------------------+\n",
      "|                  antecedent|      consequent|confidence|             lift|             support|\n",
      "+----------------------------+----------------+----------+-----------------+--------------------+\n",
      "|      [페놀류, 발효미생물류]|[당 및 탄수화물]|       1.0|            80.25|0.003115264797507788|\n",
      "|    [당 및 탄수화물, 지방산]|        [엽록소]|       0.5|53.50000000000001|0.003115264797507788|\n",
      "|[아미노산 및 단백질, 인삼류]|        [페놀류]|       1.0|45.85714285714286|0.003115264797507788|\n",
      "+----------------------------+----------------+----------+-----------------+--------------------+\n",
      "only showing top 3 rows\n",
      "\n",
      "성별: 남자, 연령대: 60~69\n",
      "+-------------------------------+----------+----------+------------------+--------------------+\n",
      "|                     antecedent|consequent|confidence|              lift|             support|\n",
      "+-------------------------------+----------+----------+------------------+--------------------+\n",
      "|[페놀류, 아미노산 및 단백질,...|[식이섬유]|       1.0|47.476190476190474|0.001003009027081...|\n",
      "|[페놀류, 아미노산 및 단백질,...|[식이섬유]|       1.0|47.476190476190474|0.001003009027081...|\n",
      "|[페놀류, 아미노산 및 단백질,...|[식이섬유]|       1.0|47.476190476190474|0.001003009027081...|\n",
      "+-------------------------------+----------+----------+------------------+--------------------+\n",
      "only showing top 3 rows\n",
      "\n",
      "성별: 남자, 연령대: 30~39\n",
      "+--------------------------------+----------+----------+-----------------+-------------------+\n",
      "|                      antecedent|consequent|confidence|             lift|            support|\n",
      "+--------------------------------+----------+----------+-----------------+-------------------+\n",
      "| [식이섬유, 지방산, 비타민 및...|  [엽록소]|       1.0|55.77777777777777|0.00199203187250996|\n",
      "|[식이섬유, 지방산, 발효미생물...|  [엽록소]|       1.0|55.77777777777777|0.00199203187250996|\n",
      "| [아미노산 및 단백질, 지방산,...|  [엽록소]|       1.0|55.77777777777777|0.00199203187250996|\n",
      "+--------------------------------+----------+----------+-----------------+-------------------+\n",
      "only showing top 3 rows\n",
      "\n",
      "성별: 남자, 연령대: 40~49\n",
      "+--------------------------------+----------+----------+------------------+--------------------+\n",
      "|                      antecedent|consequent|confidence|              lift|             support|\n",
      "+--------------------------------+----------+----------+------------------+--------------------+\n",
      "|[아미노산 및 단백질, 신규기능...|  [엽록소]|       1.0|31.040000000000003|0.002577319587628866|\n",
      "|[아미노산 및 단백질, 신규기능...|  [엽록소]|       1.0|31.040000000000003|0.002577319587628866|\n",
      "| [아미노산 및 단백질, 지방산,...|  [엽록소]|       0.5|15.520000000000001|0.001288659793814433|\n",
      "+--------------------------------+----------+----------+------------------+--------------------+\n",
      "only showing top 3 rows\n",
      "\n",
      "성별: 남자, 연령대: 70~79\n",
      "+---------------------------------+----------+------------------+----+--------------------+\n",
      "|                       antecedent|consequent|        confidence|lift|             support|\n",
      "+---------------------------------+----------+------------------+----+--------------------+\n",
      "|[신규기능성식품, 발효미생물류,...|  [페놀류]|               1.0|51.6|0.003875968992248062|\n",
      "|[신규기능성식품, 발효미생물류,...|  [페놀류]|               0.5|25.8|0.003875968992248062|\n",
      "| [발효미생물류, 지방산, 비타민...|[식이섬유]|0.3333333333333333|21.5|0.003875968992248062|\n",
      "+---------------------------------+----------+------------------+----+--------------------+\n",
      "only showing top 3 rows\n",
      "\n",
      "성별: 남자, 연령대: 80~89\n",
      "+------------------------------+--------------------+----------+----+-------------------+\n",
      "|                    antecedent|          consequent|confidence|lift|            support|\n",
      "+------------------------------+--------------------+----------+----+-------------------+\n",
      "|[지방산, 인삼류, 발효미생물류]|[아미노산 및 단백질]|       1.0|13.0|0.07692307692307693|\n",
      "|        [지방산, 발효미생물류]|[아미노산 및 단백질]|       1.0|13.0|0.07692307692307693|\n",
      "|              [지방산, 인삼류]|[아미노산 및 단백질]|       1.0|13.0|0.07692307692307693|\n",
      "+------------------------------+--------------------+----------+----+-------------------+\n",
      "only showing top 3 rows\n",
      "\n",
      "성별: 남자, 연령대: 0~9\n",
      "+----------------------------------+--------------------+-------------------+------------------+-------------------+\n",
      "|                        antecedent|          consequent|         confidence|              lift|            support|\n",
      "+----------------------------------+--------------------+-------------------+------------------+-------------------+\n",
      "|[아미노산 및 단백질, 발효미생물류]|  [비타민 및 무기질]|                1.0|2.5789473684210527|0.01020408163265306|\n",
      "|                [비타민 및 무기질]|[아미노산 및 단백질]|0.05263157894736842|1.2894736842105263|0.02040816326530612|\n",
      "|              [아미노산 및 단백질]|  [비타민 및 무기질]|                0.5|1.2894736842105263|0.02040816326530612|\n",
      "+----------------------------------+--------------------+-------------------+------------------+-------------------+\n",
      "only showing top 3 rows\n",
      "\n",
      "성별: 남자, 연령대: 90~99\n",
      "+----------+----------+----------+----+-------+\n",
      "|antecedent|consequent|confidence|lift|support|\n",
      "+----------+----------+----------+----+-------+\n",
      "+----------+----------+----------+----+-------+\n",
      "\n",
      "성별: 남자, 연령대: 10~19\n",
      "+--------------------------------+--------------------+------------------+------------------+--------------------+\n",
      "|                      antecedent|          consequent|        confidence|              lift|             support|\n",
      "+--------------------------------+--------------------+------------------+------------------+--------------------+\n",
      "|[아미노산 및 단백질, 발효미생...|            [엽록소]|               0.5|31.700000000000003|0.006309148264984227|\n",
      "| [아미노산 및 단백질, 비타민 ...|            [엽록소]|0.2727272727272727| 17.29090909090909| 0.00946372239747634|\n",
      "|          [엽록소, 발효미생물류]|[아미노산 및 단백질]|               1.0|13.782608695652172|0.006309148264984227|\n",
      "+--------------------------------+--------------------+------------------+------------------+--------------------+\n",
      "only showing top 3 rows\n",
      "\n"
     ]
    }
   ],
   "source": [
    "for (gender, age_group), model in models.items():\n",
    "    print(f\"성별: {gender}, 연령대: {age_group}\")\n",
    "    rules = model.associationRules\n",
    "    filtered_rules = rules.filter(rules[\"lift\"] > 1).orderBy(F.desc(\"lift\"))\n",
    "    filtered_rules.show(3)"
   ]
  },
  {
   "cell_type": "markdown",
   "id": "c57926b8-9b5a-4dd9-8de1-d0b4f9c04adb",
   "metadata": {},
   "source": [
    "# 3. 모델링 예측\n",
    "- fpgrowth의 prediction 기준 찾아보기"
   ]
  },
  {
   "cell_type": "markdown",
   "id": "ffa60862-355b-4332-9ba8-b554bc91dcc4",
   "metadata": {},
   "source": [
    "### i) transform을 사용한 code1\n",
    "- lift가 높은 값을 반환하게 하려고 했더니 lift 컬럼이 없다고 함.\n",
    "- prediction.select(\"*\").show()를 해도 아래 섭취품목, prediction만 확인할 수 있음.\n",
    "- transform의 prediction은 associationRules의 consequent 집합인 것을 확인하였음\n",
    "- tranform은 각 트랜잭션에 대한 모든 연관 규칙을 찾아줌. prediction 리스트 안의 항목 순서는 신뢰도가 높은 순서임. (prediction[0]은 가장 신뢰도가 높은 항목!)\n",
    "- 세가지 지표(confidence, lift, support)를 확인할 수 있는 associationRules에서 필터링 후 예측하기로 함"
   ]
  },
  {
   "cell_type": "code",
   "execution_count": 15,
   "id": "e68b7837-3184-43b9-b13e-b98bfe673ad1",
   "metadata": {},
   "outputs": [],
   "source": [
    "### fp-growth 예측 함수\n",
    "\n",
    "# 성별, 연령대, 아이템 입력시 예측 결과 반환함\n",
    "# def predict(gender, age_group, items):\n",
    "#     model = models.get((gender, age_group))\n",
    "#     if not model:\n",
    "#         return \"모델을 찾을 수 없습니다.\"\n",
    "        \n",
    "#     # 예측을 위한 DataFrame 생성\n",
    "#     prediction_df = spark.createDataFrame([(items,)], [\"섭취품목\"])\n",
    "#     predictions = model.transform(prediction_df)\n",
    "#     # 첫 번째 예측 결과만 반환\n",
    "#     #return prediction.select(F.col(\"prediction\")[0]).show()\n",
    "    \n",
    "#     return predictions.select(\"*\").show()"
   ]
  },
  {
   "cell_type": "code",
   "execution_count": 16,
   "id": "d6720550-e288-4041-8d3a-c1be0f1b4567",
   "metadata": {},
   "outputs": [],
   "source": [
    "# # mysql에서 불러온 값을 아래 변수에 입력해주면 됩니다.\n",
    "# gender_input = '여자'\n",
    "# age_group_input = '20~29'\n",
    "# items_input = ['신규기능성식품', '비타민 및 무기질']\n",
    "\n",
    "# print(predict(gender_input, age_group_input, items_input))"
   ]
  },
  {
   "cell_type": "markdown",
   "id": "737ba7bf-04f1-403f-8c46-a133e2c4b6b8",
   "metadata": {},
   "source": [
    "### ii) associationRules를 사용한 code2\n",
    "- Python의 리스트를 PySpark의 'ArrayType'으로 변환\n",
    "- DataFrame에 변환된 배열을 추가할 때 용이함\n",
    "- filter 연산을 사용하여 특정 조건을 충족하는 행들만 선택"
   ]
  },
  {
   "cell_type": "code",
   "execution_count": 21,
   "id": "a69a9f66-65ea-4497-a3fb-622c0d22c373",
   "metadata": {},
   "outputs": [
    {
     "name": "stdout",
     "output_type": "stream",
     "text": [
      "Memory used before: 8.70 GB\n",
      "Memory used after: 8.71 GB\n",
      "Memory used for this operation: 0.02 GB\n",
      "started at : 2023-11-02 13:09:55.947222\n",
      "ended at : 2023-11-02 13:09:56.105286\n",
      "total : 0:00:00.158064\n",
      "+--------------------+-------------------+------------------+--------------------+\n",
      "|          consequent|         confidence|              lift|             support|\n",
      "+--------------------+-------------------+------------------+--------------------+\n",
      "|            [페놀류]|0.03571428571428571|2.5297619047619047|0.002352941176470588|\n",
      "|            [지방산]|0.17857142857142858|1.4880952380952381|0.011764705882352941|\n",
      "|[아미노산 및 단백질]|0.07142857142857142|1.3198757763975155|0.004705882352941176|\n",
      "+--------------------+-------------------+------------------+--------------------+\n",
      "\n",
      "None\n"
     ]
    }
   ],
   "source": [
    "from pyspark.sql.functions import lit, array, col, desc\n",
    "\n",
    "\n",
    "def predictNutr(gender, age_group, items):\n",
    "    # 시작 전 메모리 사용량 확인\n",
    "    before_memory = psutil.virtual_memory().used / (1024.0 ** 3)  # GB 단위\n",
    "    start_time = datetime.now()\n",
    "    \n",
    "    # 성별연령대별 모델 가지고오기\n",
    "    model = models.get((gender, age_group))\n",
    "    if not model:\n",
    "        return \"모델을 찾을 수 없습니다.\"\n",
    "\n",
    "    # 불러온 모델 기반 규칙 찾기\n",
    "    rules = model.associationRules\n",
    "\n",
    "    # 아이템 리스트를 ArrayType으로 변환\n",
    "    items_array = array(*[lit(item) for item in items])\n",
    "\n",
    "    relevant_rules = rules.filter(col(\"antecedent\") == items_array)\n",
    "    \n",
    "    if relevant_rules.count() == 0:\n",
    "        return \"해당 아이템에 대한 규칙을 찾을 수 없습니다.\"\n",
    "        \n",
    "    # 향상도 필터링\n",
    "    filtered_rules = relevant_rules.filter(col(\"lift\") > 1).orderBy(desc(\"lift\"))\n",
    "    # 연관규칙 지표 출력\n",
    "    metrics = filtered_rules.select(\"consequent\", \"confidence\", \"lift\", \"support\")\n",
    "\n",
    "    # 성능측정\n",
    "    end_time = datetime.now()\n",
    "    after_memory = psutil.virtual_memory().used / (1024.0 ** 3)  # GB 단위\n",
    "    \n",
    "    print(f\"Memory used before: {before_memory:.2f} GB\")\n",
    "    print(f\"Memory used after: {after_memory:.2f} GB\")\n",
    "    print(f\"Memory used for this operation: {after_memory - before_memory:.2f} GB\")\n",
    "    print(f\"started at : {start_time}\")\n",
    "    print(f\"ended at : {end_time}\")\n",
    "    print(f\"total : {end_time - start_time}\")\n",
    "    \n",
    "    return metrics.show()\n",
    "\n",
    "\n",
    "\n",
    "gender_input = '여자'\n",
    "age_group_input = '20~29'\n",
    "items_input = ['신규기능성식품', '비타민 및 무기질']\n",
    "\n",
    "print(predictNutr(gender_input, age_group_input, items_input))"
   ]
  },
  {
   "cell_type": "markdown",
   "id": "4e9f86a8-ade8-4ed0-bc9b-76a09ba3ab17",
   "metadata": {},
   "source": [
    "### associationRules를 사용한 code3\n",
    "- Python 리스트를 직접 DataFrame의 ArrayType 컬럼으로 변환\n",
    "- 새롭게 생성된 독립적인 DataFrame이며\n",
    "- 다른 DataFrame과 조인하거나 다른 연산 수행 가능\n",
    "- 다만, join을 사용할 경우 연산 비용이 크기 때문에 효율성 저하\n",
    "- 아래 경우에는 단 하나의 행만 포함한 DataFrame이기 때문에 딱히 문제가 되지는 않음"
   ]
  },
  {
   "cell_type": "code",
   "execution_count": 22,
   "id": "70a294e1-fb38-4efa-a38c-faa107a70f39",
   "metadata": {},
   "outputs": [
    {
     "name": "stdout",
     "output_type": "stream",
     "text": [
      "Memory used before: 8.70 GB\n",
      "Memory used after: 8.69 GB\n",
      "Memory used for this operation: -0.01 GB\n",
      "started at : 2023-11-02 13:10:05.811089\n",
      "ended at : 2023-11-02 13:10:12.342671\n",
      "total : 0:00:06.531582\n",
      "+--------------------+-------------------+------------------+--------------------+\n",
      "|          consequent|         confidence|              lift|             support|\n",
      "+--------------------+-------------------+------------------+--------------------+\n",
      "|            [페놀류]|0.03571428571428571|2.5297619047619047|0.002352941176470588|\n",
      "|            [지방산]|0.17857142857142858|1.4880952380952381|0.011764705882352941|\n",
      "|[아미노산 및 단백질]|0.07142857142857142|1.3198757763975155|0.004705882352941176|\n",
      "+--------------------+-------------------+------------------+--------------------+\n",
      "\n",
      "None\n"
     ]
    }
   ],
   "source": [
    "# from pyspark.sql.functions import col\n",
    "\n",
    "\n",
    "# def predictNutr(gender, age_group, items):\n",
    "#     # 시작 전 메모리 사용량 확인\n",
    "#     before_memory = psutil.virtual_memory().used / (1024.0 ** 3)  # GB 단위\n",
    "#     start_time = datetime.now()\n",
    "    \n",
    "#     # 성별연령대별 모델 가지고오기\n",
    "#     model = models.get((gender, age_group))\n",
    "#     if not model:\n",
    "#         return \"모델을 찾을 수 없습니다.\"\n",
    "\n",
    "#     # 불러온 모델 기반 규칙 찾기\n",
    "#     rules = model.associationRules\n",
    "\n",
    "#     # 아이템 리스트를 DataFrame의 ArrayType 컬럼으로 변환\n",
    "#     items_df = spark.createDataFrame([(items,)], [\"items_array\"])\n",
    "\n",
    "#     # 아이템 ArrayType을 가진 DataFrame과 규칙을 조인\n",
    "#     relevant_rules = rules.join(items_df, rules[\"antecedent\"] == col(\"items_array\"))\n",
    "\n",
    "#     if relevant_rules.count() == 0:\n",
    "#         return \"해당 아이템에 대한 규칙을 찾을 수 없습니다.\"\n",
    "    \n",
    "#     # 향상도 필터링\n",
    "#     filtered_rules = relevant_rules.filter(col(\"lift\") > 1).orderBy(desc(\"lift\"))\n",
    "#     # 연관규칙 지표 출력\n",
    "#     metrics = filtered_rules.select(\"consequent\", \"confidence\", \"lift\", \"support\")\n",
    "\n",
    "#     #성능측정\n",
    "#     end_time = datetime.now()\n",
    "#     after_memory = psutil.virtual_memory().used / (1024.0 ** 3)  # GB 단위\n",
    "    \n",
    "#     print(f\"Memory used before: {before_memory:.2f} GB\")\n",
    "#     print(f\"Memory used after: {after_memory:.2f} GB\")\n",
    "#     print(f\"Memory used for this operation: {after_memory - before_memory:.2f} GB\")\n",
    "#     print(f\"started at : {start_time}\")\n",
    "#     print(f\"ended at : {end_time}\")\n",
    "#     print(f\"total : {end_time - start_time}\")\n",
    "    \n",
    "#     return metrics.show()\n",
    "\n",
    "# gender_input = '여자'\n",
    "# age_group_input = '20~29'\n",
    "# items_input = ['신규기능성식품', '비타민 및 무기질']\n",
    "\n",
    "# print(predictNutr(gender_input, age_group_input, items_input))"
   ]
  },
  {
   "cell_type": "markdown",
   "id": "47498058-213d-4608-9130-3205918ac32e",
   "metadata": {},
   "source": [
    "### 최종 코드 code2\n",
    "- code2와 3을 비교했을 때, 메모리 사용량에서 큰 차이가 나지 않지만 처리 시간이 code2가 훨씬 빠름\n",
    "  (code2: 0초 / code3: 약 6~8초)\n",
    "- 코드의 간결성과 가독성을 고려하였을 때, code2의 filter를 사용하는 방법이 직관적이고 단순함\n",
    "- (code3의 join은 DataFrame을 생성하고 join해야 함. 위 두 코드에서는 별 차이가 없으나 알아두기)\n",
    "- 결론적으로 예측을 할 때 작은 규모의 데이터만 처리할 것이기 때문에, filter를 사용하는 방법 선택"
   ]
  },
  {
   "cell_type": "code",
   "execution_count": null,
   "id": "c25b74be-948e-4498-b11b-9b2bac3123f6",
   "metadata": {},
   "outputs": [],
   "source": []
  },
  {
   "cell_type": "code",
   "execution_count": null,
   "id": "aea17d0e-2812-4ead-9f69-dbc322c9e546",
   "metadata": {},
   "outputs": [],
   "source": []
  }
 ],
 "metadata": {
  "kernelspec": {
   "display_name": "spark2_kernel",
   "language": "python",
   "name": "spark_env2"
  },
  "language_info": {
   "codemirror_mode": {
    "name": "ipython",
    "version": 3
   },
   "file_extension": ".py",
   "mimetype": "text/x-python",
   "name": "python",
   "nbconvert_exporter": "python",
   "pygments_lexer": "ipython3",
   "version": "3.9.18"
  }
 },
 "nbformat": 4,
 "nbformat_minor": 5
}

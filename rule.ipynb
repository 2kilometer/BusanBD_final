{
 "cells": [
  {
   "cell_type": "code",
   "execution_count": 2,
   "id": "e54ada65-e8f8-4514-a5ac-12b804466c21",
   "metadata": {},
   "outputs": [],
   "source": [
    "import pandas as pd\n",
    "from pyspark.sql import SparkSession, DataFrame"
   ]
  },
  {
   "cell_type": "markdown",
   "id": "23f06fb4-b1ab-4a0a-853e-ad39dd0fc2ec",
   "metadata": {},
   "source": [
    "# Extract"
   ]
  },
  {
   "cell_type": "code",
   "execution_count": 70,
   "id": "abdbc4ba-982a-4deb-bb23-d7d0f1547072",
   "metadata": {},
   "outputs": [
    {
     "name": "stdout",
     "output_type": "stream",
     "text": [
      "+-------------------+-------+-------+----------------+------------------+\n",
      "|          mem_email|mem_age|mem_gen|   fin_prtn_time|            cat_nm|\n",
      "+-------------------+-------+-------+----------------+------------------+\n",
      "|       aaa@xxxx.com|  30~39|   male|2023-10-30 07:00|아미노산 및 단백질|\n",
      "|       aaa@xxxx.com|  30~39|   male|2023-10-30 07:00|            지방산|\n",
      "|       aaa@xxxx.com|  30~39|   male|2023-10-30 07:00|    신규기능성식품|\n",
      "|       aaa@xxxx.com|  30~39|   male|2023-10-30 07:00|            페놀류|\n",
      "|       aaa@xxxx.com|  30~39|   male|2023-10-30 07:00|  비타민 및 무기질|\n",
      "|       aaa@xxxx.com|  30~39|   male|2023-10-30 08:00|아미노산 및 단백질|\n",
      "|       aaa@xxxx.com|  30~39|   male|2023-10-30 08:00|            지방산|\n",
      "|       aaa@xxxx.com|  30~39|   male|2023-10-30 08:00|    신규기능성식품|\n",
      "|       aaa@xxxx.com|  30~39|   male|2023-10-30 08:00|            페놀류|\n",
      "|       aaa@xxxx.com|  30~39|   male|2023-10-30 08:00|  비타민 및 무기질|\n",
      "|qwert0175@naver.com|  20~29|   male|2023-11-06 16:04|아미노산 및 단백질|\n",
      "|qwert0175@naver.com|  20~29|   male|2023-11-06 16:04|  비타민 및 무기질|\n",
      "|qwert0175@naver.com|  20~29|   male|2023-11-06 16:18|  비타민 및 무기질|\n",
      "|qwert0175@naver.com|  20~29|   male|2023-11-06 21:16|  비타민 및 무기질|\n",
      "|tjdgh7929@naver.com|  20~29|   male|2023-11-06 13:07|아미노산 및 단백질|\n",
      "|tjdgh7929@naver.com|  20~29|   male|2023-11-06 13:07|  비타민 및 무기질|\n",
      "|tjdgh7929@naver.com|  20~29|   male|2023-11-06 14:31|아미노산 및 단백질|\n",
      "+-------------------+-------+-------+----------------+------------------+\n",
      "\n"
     ]
    }
   ],
   "source": [
    "def create_session(appName:str):\n",
    "    return SparkSession \\\n",
    "            .builder \\\n",
    "            .appName(appName) \\\n",
    "            .getOrCreate()\n",
    "\n",
    "def mysql_select(spark:SparkSession, domain:str, port:str, schema:str, query:str, user:str, password:str):\n",
    "    return spark \\\n",
    "        .read \\\n",
    "        .format(\"jdbc\") \\\n",
    "        .option(\"driver\", \"com.mysql.cj.jdbc.Driver\") \\\n",
    "        .option(\"url\", f\"jdbc:mysql://{domain}:{port}/{schema}?serverTimezone=UTC\") \\\n",
    "        .option(\"query\", query) \\\n",
    "        .option(\"user\", user) \\\n",
    "        .option(\"password\", password) \\\n",
    "        .load()\n",
    "\n",
    "\n",
    "# mysql 설정 변수\n",
    "db_domain = \"***\"\n",
    "db_port = \"***\"\n",
    "database = \"***\"\n",
    "table = \"***\"\n",
    "sql = f\"\"\"\n",
    "    SELECT DISTINCT mem_email, mem_age, mem_gen, fin_prtn_time, cat_nm\n",
    "    FROM mem_detail\n",
    "        JOIN prtn_setting ON mem_detail.mem_email = prtn_setting.prtn_mem\n",
    "        RIGHT JOIN prtn_fin ON prtn_setting.prtn_id = prtn_fin.prtn_id\n",
    "        LEFT JOIN pill_prod ON prtn_setting.prtn_nm = pill_prod.pill_cd\n",
    "        JOIN pill_cmb ON pill_cmb.cmb_pill = pill_prod.pill_cd\n",
    "        JOIN pill_cat ON pill_cmb.cmb_cat = pill_cat.cat_cd\n",
    "\"\"\"\n",
    "user = \"***\"\n",
    "password = \"***\"\n",
    "write_mode = \"append\"\n",
    "\n",
    "# mysql 데이터 조회\n",
    "mysql_df = mysql_select(spark, db_domain, db_port, database, sql, user, password)\n",
    "mysql_df.show()"
   ]
  },
  {
   "cell_type": "code",
   "execution_count": null,
   "id": "e8c3162d-7923-4cdf-8a88-f85517aa7ef5",
   "metadata": {},
   "outputs": [],
   "source": []
  },
  {
   "cell_type": "markdown",
   "id": "ebd8245c-e6d9-41ef-9c3d-d2492497b7d5",
   "metadata": {},
   "source": [
    "# LOAD"
   ]
  },
  {
   "cell_type": "code",
   "execution_count": 7,
   "id": "79d2669c-50ee-4d2b-958b-aedbafe9c3c1",
   "metadata": {},
   "outputs": [
    {
     "name": "stderr",
     "output_type": "stream",
     "text": [
      "C:\\Users\\USER\\anaconda3\\envs\\wlb_env\\lib\\site-packages\\pyspark\\sql\\pandas\\conversion.py:479: FutureWarning: is_datetime64tz_dtype is deprecated and will be removed in a future version. Check `isinstance(dtype, pd.DatetimeTZDtype)` instead.\n",
      "  if should_localize and is_datetime64tz_dtype(s.dtype) and s.dt.tz is not None:\n"
     ]
    },
    {
     "name": "stdout",
     "output_type": "stream",
     "text": [
      "+----------+-----+------+------------------------------+\n",
      "|    upload|  age|   gen|                          rule|\n",
      "+----------+-----+------+------------------------------+\n",
      "|2023-11-06|10~19|  male| ['비타민 및 무기질', '발효...|\n",
      "|2023-11-06|20~29|female|['발효미생물류', '비타민 및...|\n",
      "|2023-11-06|40~49|female| ['비타민 및 무기질', '발효...|\n",
      "|2023-11-06|60~69|  male| ['비타민 및 무기질', '인삼...|\n",
      "|2023-11-06|30~39|  male| ['비타민 및 무기질', '발효...|\n",
      "|2023-11-06|50~59|female| ['비타민 및 무기질', '발효...|\n",
      "|2023-11-06|50~59|  male| ['비타민 및 무기질', '인삼...|\n",
      "|2023-11-06|20~29|  male| ['비타민 및 무기질', '발효...|\n",
      "|2023-11-06|10~19|female| ['비타민 및 무기질', '발효...|\n",
      "|2023-11-06|30~39|female| ['비타민 및 무기질', '발효...|\n",
      "|2023-11-06|70~79|  male| ['인삼류', '비타민 및 무기...|\n",
      "|2023-11-06|70~79|female| ['비타민 및 무기질', '인삼...|\n",
      "|2023-11-06|40~49|  male| ['비타민 및 무기질', '발효...|\n",
      "|2023-11-06|60~69|female| ['비타민 및 무기질', '지방...|\n",
      "+----------+-----+------+------------------------------+\n",
      "\n"
     ]
    }
   ],
   "source": [
    "def create_session(appName:str):\n",
    "    '''\n",
    "    # Spark 세션 만드는 함수\n",
    "    # appName : 스파크 세션의 이름 지정 변수\n",
    "    # return : pyspark.sql.SparkSession\n",
    "    '''\n",
    "    return SparkSession \\\n",
    "            .builder \\\n",
    "            .appName(appName) \\\n",
    "            .getOrCreate()\n",
    "\n",
    "def mysql_select(spark:SparkSession, domain:str, port:str, schema:str, query:str, user:str, password:str):\n",
    "    '''\n",
    "    # mysql 조회 함수\n",
    "    # spark : SparkSession\n",
    "    # domain : DB 서버 IP\n",
    "    # port : DB 서버 포트\n",
    "    # schema : MySQL Database 명\n",
    "    # query : 조회 SQL\n",
    "    # user : DB 유저\n",
    "    # password : DB 비밀번호\n",
    "    # return : pyspark.sql.DataFrame\n",
    "    '''\n",
    "    return spark \\\n",
    "        .read \\\n",
    "        .format(\"jdbc\") \\\n",
    "        .option(\"driver\", \"com.mysql.cj.jdbc.Driver\") \\\n",
    "        .option(\"url\", f\"jdbc:mysql://{domain}:{port}/{schema}?serverTimezone=UTC\") \\\n",
    "        .option(\"query\", query) \\\n",
    "        .option(\"user\", user) \\\n",
    "        .option(\"password\", password) \\\n",
    "        .load()\n",
    "def mysql_write(df:DataFrame, mode:str, domain:str, port:str, schema:str, table:str, user:str, password:str):\n",
    "    '''\n",
    "    # mysql 데이터 저장 함수\n",
    "    # df : pyspark.sql.DataFrame\n",
    "    # mode : 데이터 저장 방식 지정 'overwrite', 'append', 'ignore'\n",
    "    # domain : DB 서버 IP\n",
    "    # port : DB 서버 포트\n",
    "    # schema : MySQL Database 명\n",
    "    # table : 테이블 명\n",
    "    # user : DB 유저\n",
    "    # password : DB 비밀번호\n",
    "    '''\n",
    "    df.write \\\n",
    "        .format(\"jdbc\") \\\n",
    "        .mode(mode) \\\n",
    "        .option(\"encoding\", \"UTF-8\") \\\n",
    "        .option(\"driver\", \"com.mysql.jdbc.Driver\") \\\n",
    "        .option(\"url\", f\"jdbc:mysql://{domain}:{port}/{schema}?serverTimezone=UTC&useUnicode=true&characterEncoding=utf8\") \\\n",
    "        .option(\"dbtable\", table) \\\n",
    "        .option(\"user\", user) \\\n",
    "        .option(\"password\", password) \\\n",
    "        .save()\n",
    "    \n",
    "\n",
    "# 판다스로 데이터 조회\n",
    "pandas_df = pd.read_excel('./rule.xlsx')\n",
    "# 스파크 세션 생성\n",
    "spark = create_session(\"spark_test\")\n",
    "# 판다스 데이터 Spark 데이터프레임으로 변경\n",
    "df = spark.createDataFrame(pandas_df)\n",
    "# mysql 설정 변수\n",
    "db_domain = \"***\"\n",
    "db_port = \"***\"\n",
    "database = \"***\"\n",
    "table = \"rule_data\"\n",
    "sql = f\"\"\"\n",
    "    SELECT * \n",
    "    FROM rule_data\n",
    "\"\"\"\n",
    "user = \"***\"\n",
    "password = \"***\"\n",
    "write_mode = \"append\"\n",
    "\n",
    "# mysql 데이터 저장\n",
    "mysql_write(df, write_mode, db_domain, db_port, database, table, user, password)\n",
    "# mysql 데이터 조회\n",
    "mysql_df = mysql_select(spark, db_domain, db_port, database, sql, user, password)\n",
    "mysql_df.show()"
   ]
  },
  {
   "cell_type": "code",
   "execution_count": null,
   "id": "a63540d5-4347-4871-8148-fe92d9b81062",
   "metadata": {},
   "outputs": [],
   "source": []
  },
  {
   "cell_type": "code",
   "execution_count": null,
   "id": "fe9a39f3-f065-4f0c-9567-7bbb7873ea34",
   "metadata": {},
   "outputs": [],
   "source": []
  },
  {
   "cell_type": "code",
   "execution_count": null,
   "id": "4457e54a-76ff-44c5-866f-f97ba69f2332",
   "metadata": {},
   "outputs": [],
   "source": []
  },
  {
   "cell_type": "code",
   "execution_count": null,
   "id": "c5bb5590-1b72-48ff-ad03-16a8ebf85bcd",
   "metadata": {},
   "outputs": [],
   "source": []
  },
  {
   "cell_type": "code",
   "execution_count": null,
   "id": "2b9aa160-a6c9-49bf-8bc3-f4649ec184f0",
   "metadata": {},
   "outputs": [],
   "source": []
  },
  {
   "cell_type": "code",
   "execution_count": null,
   "id": "e0f1c91b-5a18-49f5-b942-5ed4ff2f1544",
   "metadata": {},
   "outputs": [],
   "source": []
  },
  {
   "cell_type": "code",
   "execution_count": null,
   "id": "8c8e7343-d224-4c2b-8246-53ba9c1d1dec",
   "metadata": {},
   "outputs": [],
   "source": []
  },
  {
   "cell_type": "code",
   "execution_count": null,
   "id": "24dbcd94-54ff-4258-93e8-0b45ce672561",
   "metadata": {},
   "outputs": [],
   "source": []
  },
  {
   "cell_type": "code",
   "execution_count": null,
   "id": "1dabf3dc-069b-40b6-8813-f00699773a84",
   "metadata": {},
   "outputs": [],
   "source": []
  },
  {
   "cell_type": "code",
   "execution_count": null,
   "id": "e7e530e2-a980-43b5-a85e-f2c246882353",
   "metadata": {},
   "outputs": [],
   "source": []
  },
  {
   "cell_type": "code",
   "execution_count": null,
   "id": "a4bfe9de-6c5a-4e9e-ac2d-f31ae72e7eac",
   "metadata": {},
   "outputs": [],
   "source": []
  }
 ],
 "metadata": {
  "kernelspec": {
   "display_name": "wlb_kernel",
   "language": "python",
   "name": "wlb_env"
  },
  "language_info": {
   "codemirror_mode": {
    "name": "ipython",
    "version": 3
   },
   "file_extension": ".py",
   "mimetype": "text/x-python",
   "name": "python",
   "nbconvert_exporter": "python",
   "pygments_lexer": "ipython3",
   "version": "3.9.18"
  }
 },
 "nbformat": 4,
 "nbformat_minor": 5
}
